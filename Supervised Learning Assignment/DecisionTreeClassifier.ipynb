{
 "cells": [
  {
   "cell_type": "markdown",
   "metadata": {},
   "source": [
    "# Modelo de clasificación con Árbol de decisión \n",
    "## Autora: Sandra Alonso Paz, estudiante del Máster en Biología Computacional."
   ]
  },
  {
   "cell_type": "code",
   "execution_count": 522,
   "metadata": {},
   "outputs": [],
   "source": [
    "import pandas as pd\n",
    "import numpy as np\n",
    "import matplotlib.pyplot as plt\n",
    "from sklearn.model_selection import train_test_split\n",
    "from sklearn.tree import DecisionTreeClassifier\n",
    "from sklearn.model_selection import GridSearchCV\n",
    "from sklearn.model_selection import cross_val_score"
   ]
  },
  {
   "cell_type": "markdown",
   "metadata": {},
   "source": [
    "# Importación de los datos\n",
    "### 1. Importar los datos del CSV"
   ]
  },
  {
   "cell_type": "code",
   "execution_count": 523,
   "metadata": {},
   "outputs": [],
   "source": [
    "path ='dataset18.csv'\n",
    "data = pd.read_csv(path)"
   ]
  },
  {
   "cell_type": "markdown",
   "metadata": {},
   "source": [
    "### 2. Creamos las dos variables que utilizaremos en el modelo\n",
    "   \n",
    "    X = Atributos del modelo (columnas del CSV)\n",
    "    \n",
    "    Y = Columna target (la que queremos predecir a partir del resto de columnas)"
   ]
  },
  {
   "cell_type": "code",
   "execution_count": 524,
   "metadata": {},
   "outputs": [],
   "source": [
    "X = data.iloc[:,2:23] #Seleccionamos todas las columnas quitando la columna Unnamed (id de la fila ) y la columna Target.\n",
    "Y = []\n",
    "\n",
    "# Como la columna target esta compuesta por valores categóricos ordinales (R y NR) convertimos en valores numéricos (R=0, NR=1) \n",
    "for i in range (len(data)):\n",
    "    if data.Target[i]=='R':\n",
    "        Y.append(0)\n",
    "    else:\n",
    "        Y.append(1) "
   ]
  },
  {
   "cell_type": "markdown",
   "metadata": {},
   "source": [
    "# Creación del modelo de árbol de decisión\n",
    "### 1. Separamos el conjunto de datos en entrenamiento y prueba"
   ]
  },
  {
   "cell_type": "code",
   "execution_count": 525,
   "metadata": {},
   "outputs": [
    {
     "name": "stdout",
     "output_type": "stream",
     "text": [
      "Tamaño del conjunto de entrenamiento: 45\n",
      "Tamaño de la columna objetivo del conjunto de entrenamiento: 45\n",
      "Tamaño del conjunto de prueba: 8\n",
      "Tamño de la columna objetivo del conjunto de prueba: 8\n"
     ]
    }
   ],
   "source": [
    "XTrain, XTest, yTrain, yTest = train_test_split(X, Y, test_size=0.15, random_state=125)\n",
    "# Tuve que disminuir el conjunto de prueba porque los resultados que obtenía dejaban ver que \n",
    "# el modelo no estaba aprendiendo todo lo bien que debería\n",
    "\n",
    "# Convertimos a array el conjunto de X (Y ya es un array)\n",
    "XTrain = XTrain.values\n",
    "XTest = XTest.values\n",
    "\n",
    "print('Tamaño del conjunto de entrenamiento:', len(XTrain))\n",
    "print('Tamaño de la columna objetivo del conjunto de entrenamiento:', len(yTrain))\n",
    "print('Tamaño del conjunto de prueba:', len(XTest))\n",
    "print('Tamño de la columna objetivo del conjunto de prueba:', len(yTest))"
   ]
  },
  {
   "cell_type": "markdown",
   "metadata": {},
   "source": [
    "### 2. Instanciamos un GridSeacrgCV para averiguar que parámetros ajustan mejor el modelo"
   ]
  },
  {
   "cell_type": "code",
   "execution_count": 526,
   "metadata": {},
   "outputs": [
    {
     "data": {
      "text/plain": [
       "GridSearchCV(cv=5, estimator=DecisionTreeClassifier(),\n",
       "             param_grid={'criterion': ['entropy', 'gini'],\n",
       "                         'max_depth': [2, 5, 10, 12, 15, 20, 100],\n",
       "                         'min_samples_leaf': [2, 5, 7, 10],\n",
       "                         'min_samples_split': [2, 5, 7, 10],\n",
       "                         'random_state': [125],\n",
       "                         'splitter': ['best', 'random']})"
      ]
     },
     "execution_count": 526,
     "metadata": {},
     "output_type": "execute_result"
    }
   ],
   "source": [
    "param_grid = {'min_samples_leaf': [2,5,7,10],\n",
    "              'min_samples_split': [2, 5, 7, 10],\n",
    "              'max_depth':[2,5,10,12,15,20,100],\n",
    "              'criterion':['entropy','gini'],\n",
    "              'splitter': ['best', 'random'],\n",
    "              'random_state':[125]}\n",
    "\n",
    "# Creamos un GridSearchCV que permite evaluar y seleccionar de forma sistemática los parámetros de nuestro modelo. \n",
    "# Indicándole un modelo y los parámetros a probar, puede evaluar el rendimiento del primero en función de los \n",
    "# segundos mediante validación cruzada.\n",
    "clf = GridSearchCV(DecisionTreeClassifier(), param_grid, cv = 5)\n",
    "\n",
    "clf.fit(XTrain , yTrain)"
   ]
  },
  {
   "cell_type": "code",
   "execution_count": 527,
   "metadata": {},
   "outputs": [
    {
     "name": "stdout",
     "output_type": "stream",
     "text": [
      "Mejor estimación de parámetros según GridSearchCV:\n"
     ]
    },
    {
     "data": {
      "text/plain": [
       "DecisionTreeClassifier(criterion='entropy', max_depth=5, min_samples_leaf=5,\n",
       "                       random_state=125)"
      ]
     },
     "execution_count": 527,
     "metadata": {},
     "output_type": "execute_result"
    }
   ],
   "source": [
    "print(\"Mejor estimación de parámetros según GridSearchCV:\")\n",
    "model = clf.best_estimator_\n",
    "model.fit(XTrain , yTrain)"
   ]
  },
  {
   "cell_type": "markdown",
   "metadata": {},
   "source": [
    "# Cross Validation"
   ]
  },
  {
   "cell_type": "code",
   "execution_count": 528,
   "metadata": {},
   "outputs": [
    {
     "name": "stdout",
     "output_type": "stream",
     "text": [
      "Mejor resultado de la cross validation del modelo con mejores resultados: 0.7333333333333334\n"
     ]
    }
   ],
   "source": [
    "print(\"Mejor resultado de la cross validation del modelo con mejores resultados: \" +str(clf.best_score_))"
   ]
  },
  {
   "cell_type": "markdown",
   "metadata": {},
   "source": [
    "# Predicciones y estudio de resultados"
   ]
  },
  {
   "cell_type": "code",
   "execution_count": 529,
   "metadata": {},
   "outputs": [],
   "source": [
    "# Realizamos las predicciones con el modelo óptimo sobre el conjunto de datos de entrenamiento\n",
    "yhatTrain = model.predict(XTrain)\n",
    "contTrain = 0\n",
    "\n",
    "# Comparamos con la columna Target y comprobamos cuantos aciertos ha habido\n",
    "for i in range(0,len(yTrain),1) :\n",
    "    if (yhatTrain[i] == yTrain[i]):\n",
    "        contTrain = contTrain + 1"
   ]
  },
  {
   "cell_type": "code",
   "execution_count": 530,
   "metadata": {},
   "outputs": [],
   "source": [
    "# Realizamos las predicciones con el modelo óptimo sobre el conjunto de datos de prueba\n",
    "yhatTest = model.predict(XTest)\n",
    "contTest = 0\n",
    "\n",
    "# Comparamos con la columna Target y comprobamos cuantos aciertos ha habido\n",
    "for i in range(0,len(yTest),1) :\n",
    "    if (yhatTest[i] == yTest[i]):\n",
    "        contTest = contTest + 1\n"
   ]
  },
  {
   "cell_type": "code",
   "execution_count": 531,
   "metadata": {},
   "outputs": [
    {
     "name": "stdout",
     "output_type": "stream",
     "text": [
      "Precisión final en el conjunto de datos de entrenamiento: 0.8444444444444444\n",
      "Precisión final en el conjunto de datos de prueba: 0.75\n"
     ]
    }
   ],
   "source": [
    "print('Precisión final en el conjunto de datos de entrenamiento: ' + str(contTrain/len(yTrain)))\n",
    "print('Precisión final en el conjunto de datos de prueba: ' + str(contTest/len(yTest)))"
   ]
  },
  {
   "cell_type": "markdown",
   "metadata": {},
   "source": [
    "# Matriz de confusión\n",
    "### 1. Matriz de confusión del conjunto de datos del entrenamiento"
   ]
  },
  {
   "cell_type": "code",
   "execution_count": 532,
   "metadata": {},
   "outputs": [
    {
     "name": "stdout",
     "output_type": "stream",
     "text": [
      "----------------Matriz de confusión (Entrenamiento)------------------\n",
      "[[22  1]\n",
      " [ 6 16]]\n",
      "Datos de entrada:  [0 1 1 1 0 0 0 0 0 0 0 1 1 0 1 0 0 0 1 1 0 1 1 0 0 0 1 1 0 0 1 1 1 1 1 0 0\n",
      " 0 1 0 1 0 1 1 1]\n",
      "Predicción:        [0 0 0 1 0 0 0 0 0 0 0 1 1 0 1 0 0 0 1 0 0 1 1 0 0 0 1 1 0 0 1 1 0 1 1 0 0\n",
      " 0 1 1 0 0 1 1 0]\n"
     ]
    }
   ],
   "source": [
    "from sklearn.metrics import classification_report,confusion_matrix\n",
    "\n",
    "print('----------------Matriz de confusión (Entrenamiento)------------------')\n",
    "print(confusion_matrix(yTrain,yhatTrain))\n",
    "print('Datos de entrada:  ' + str(np.array(yTrain)))\n",
    "print('Predicción:        ' +str(yhatTrain))"
   ]
  },
  {
   "cell_type": "markdown",
   "metadata": {},
   "source": [
    "Estos resultados pueden ser interpretados de la siguiente manera:\n",
    "1. 22 verdaderos positivos (Verdaderamente responderán al tratamiento)\n",
    "2. 16 verdaderos negativos (Verdaderamente no responderán al tratamiento)\n",
    "3. 1 falsos positivos (Fueron clasificados como mala respuesta al tratamiento, sin embargo, responderán correctamente al mismo)\n",
    "4. 6 falsos negativos (Fueron clasificados como buena respuesta al tratamiento, sin embargo, no responderán al mismo)"
   ]
  },
  {
   "cell_type": "markdown",
   "metadata": {},
   "source": [
    "### 2. Resultados obtenidos del conjunto de entrenamiento"
   ]
  },
  {
   "cell_type": "code",
   "execution_count": 533,
   "metadata": {},
   "outputs": [
    {
     "name": "stdout",
     "output_type": "stream",
     "text": [
      "              precision    recall  f1-score   support\n",
      "\n",
      "           0       0.79      0.96      0.86        23\n",
      "           1       0.94      0.73      0.82        22\n",
      "\n",
      "    accuracy                           0.84        45\n",
      "   macro avg       0.86      0.84      0.84        45\n",
      "weighted avg       0.86      0.84      0.84        45\n",
      "\n"
     ]
    }
   ],
   "source": [
    "print(classification_report(yTrain,yhatTrain))"
   ]
  },
  {
   "cell_type": "markdown",
   "metadata": {},
   "source": [
    "### 3. Matriz de confusión del conjunto de datos de prueba"
   ]
  },
  {
   "cell_type": "code",
   "execution_count": 534,
   "metadata": {},
   "outputs": [
    {
     "name": "stdout",
     "output_type": "stream",
     "text": [
      "----------------Matriz de confusión (Prueba)------------------\n",
      "[[5 2]\n",
      " [0 1]]\n",
      "Datos de entrada:  [0 0 0 1 0 0 0 0]\n",
      "Predicción:        [1 0 0 1 1 0 0 0]\n"
     ]
    }
   ],
   "source": [
    "print('----------------Matriz de confusión (Prueba)------------------')\n",
    "print(confusion_matrix(yTest,yhatTest))\n",
    "print('Datos de entrada:  ' + str(np.array(yTest)))\n",
    "print('Predicción:        ' +str(yhatTest))"
   ]
  },
  {
   "cell_type": "markdown",
   "metadata": {},
   "source": [
    "Estos resultados pueden ser interpretados de la siguiente manera:\n",
    "1. 5 verdaderos positivos (Verdaderamente responderán al tratamiento)\n",
    "2. 1 verdaderos negativos (Verdaderamente no responderán al tratamiento)\n",
    "3. 2 falsos positivos (Fueron clasificados como mala respuesta al tratamiento, sin embargo, responderán correctamente al mismo)\n",
    "4. 0 falsos negativos (Fueron clasificados como buena respuesta al tratamiento, sin embargo, no responderán  al tratamiento)"
   ]
  },
  {
   "cell_type": "markdown",
   "metadata": {},
   "source": [
    "### 4. Resultados obtenidos del conjunto de prueba"
   ]
  },
  {
   "cell_type": "code",
   "execution_count": 535,
   "metadata": {},
   "outputs": [
    {
     "name": "stdout",
     "output_type": "stream",
     "text": [
      "              precision    recall  f1-score   support\n",
      "\n",
      "           0       1.00      0.71      0.83         7\n",
      "           1       0.33      1.00      0.50         1\n",
      "\n",
      "    accuracy                           0.75         8\n",
      "   macro avg       0.67      0.86      0.67         8\n",
      "weighted avg       0.92      0.75      0.79         8\n",
      "\n"
     ]
    }
   ],
   "source": [
    "print(classification_report(yTest,yhatTest))"
   ]
  },
  {
   "cell_type": "markdown",
   "metadata": {},
   "source": [
    "# Visualización de resultados"
   ]
  },
  {
   "cell_type": "code",
   "execution_count": 536,
   "metadata": {},
   "outputs": [
    {
     "name": "stdout",
     "output_type": "stream",
     "text": [
      "|--- n_rs133061 <= 1.50\n",
      "|   |--- n_rs344903 <= 1.50\n",
      "|   |   |--- class: 0\n",
      "|   |--- n_rs344903 >  1.50\n",
      "|   |   |--- n_rs0220 <= 0.50\n",
      "|   |   |   |--- n_rs2602 <= 1.50\n",
      "|   |   |   |   |--- class: 0\n",
      "|   |   |   |--- n_rs2602 >  1.50\n",
      "|   |   |   |   |--- class: 0\n",
      "|   |   |--- n_rs0220 >  0.50\n",
      "|   |   |   |--- n_rs0370 <= 1.50\n",
      "|   |   |   |   |--- class: 0\n",
      "|   |   |   |--- n_rs0370 >  1.50\n",
      "|   |   |   |   |--- class: 1\n",
      "|--- n_rs133061 >  1.50\n",
      "|   |--- n_rs2515462 <= 0.50\n",
      "|   |   |--- class: 1\n",
      "|   |--- n_rs2515462 >  0.50\n",
      "|   |   |--- class: 1\n",
      "\n"
     ]
    }
   ],
   "source": [
    "from sklearn.tree import export_text\n",
    "\n",
    "texto_modelo = export_text(\n",
    "                    decision_tree = model,\n",
    "                    feature_names = ['n_rs3188513', 'n_rs9960669', 'n_rs2602',\n",
    "       'n_rs5445365', 'n_rs133061', 'n_rs10102851', 'n_rs8375668',\n",
    "       'n_rs3015353', 'n_rs3229523', 'n_rs6236416', 'n_rs5274755',\n",
    "       'n_rs9280789', 'n_rs2515462', 'n_rs9025039', 'n_rs94282819',\n",
    "       'n_rs344903', 'n_rs0370', 'n_rs9072249', 'n_rs0220', 'n_rs833068',\n",
    "       'n_rs933069']\n",
    "               )\n",
    "print(texto_modelo)"
   ]
  },
  {
   "cell_type": "code",
   "execution_count": 537,
   "metadata": {},
   "outputs": [
    {
     "name": "stdout",
     "output_type": "stream",
     "text": [
      "Profundidad del árbol: 4\n",
      "Número de nodos terminales: 7\n"
     ]
    },
    {
     "data": {
      "image/png": "[encoded data removed]",
      "text/plain": [
       "<Figure size 1440x1080 with 1 Axes>"
      ]
     },
     "metadata": {
      "needs_background": "light"
     },
     "output_type": "display_data"
    }
   ],
   "source": [
    "from sklearn.tree import plot_tree\n",
    "\n",
    "fig, ax = plt.subplots(figsize=(20, 15))\n",
    "\n",
    "print(f\"Profundidad del árbol: {model.get_depth()}\")\n",
    "print(f\"Número de nodos terminales: {model.get_n_leaves()}\")\n",
    "\n",
    "plot = plot_tree(\n",
    "            decision_tree = model,\n",
    "            feature_names = ['n_rs3188513', 'n_rs9960669', 'n_rs2602',\n",
    "       'n_rs5445365', 'n_rs133061', 'n_rs10102851', 'n_rs8375668',\n",
    "       'n_rs3015353', 'n_rs3229523', 'n_rs6236416', 'n_rs5274755',\n",
    "       'n_rs9280789', 'n_rs2515462', 'n_rs9025039', 'n_rs94282819',\n",
    "       'n_rs344903', 'n_rs0370', 'n_rs9072249', 'n_rs0220', 'n_rs833068',\n",
    "       'n_rs933069'],\n",
    "            class_names   = ['R','NR'],\n",
    "            filled        = True,\n",
    "            impurity      = False,\n",
    "            fontsize      = 10,\n",
    "            precision     = 2,\n",
    "            ax            = ax\n",
    "       )"
   ]
  },
  {
   "cell_type": "markdown",
   "metadata": {},
   "source": [
    "# Bibliografía\n",
    "https://scikit-learn.org/stable/modules/generated/sklearn.tree.DecisionTreeClassifier.html?highlight=decisiontreeclassifier#sklearn.tree.DecisionTreeClassifier\n",
    "\n",
    "https://www.maximaformacion.es/blog-dat/que-son-los-arboles-de-decision-y-para-que-sirven/\n",
    "\n",
    "https://stackabuse.com/cross-validation-and-grid-search-for-model-selection-in-python/\n",
    "\n",
    "https://moodle.upm.es/titulaciones/oficiales/pluginfile.php/10065396/mod_resource/content/2/Unit2-5-SupervisedLearning-ClassificationRegression-DecisionTrees.pdf"
   ]
  }
 ],
 "metadata": {
  "interpreter": {
   "hash": "441f9d3ff1c529ee1e872a15f4dc348a3c02d54fb42565189cd8283cda2528b2"
  },
  "kernelspec": {
   "display_name": "Python 3.8.10 64-bit ('mlenv': venv)",
   "name": "python3"
  },
  "language_info": {
   "codemirror_mode": {
    "name": "ipython",
    "version": 3
   },
   "file_extension": ".py",
   "mimetype": "text/x-python",
   "name": "python",
   "nbconvert_exporter": "python",
   "pygments_lexer": "ipython3",
   "version": "3.8.8"
  },
  "orig_nbformat": 4
 },
 "nbformat": 4,
 "nbformat_minor": 2
}
