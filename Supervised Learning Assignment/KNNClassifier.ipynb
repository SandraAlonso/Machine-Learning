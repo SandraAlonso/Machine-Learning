{
 "cells": [
  {
   "cell_type": "markdown",
   "metadata": {},
   "source": [
    "# Modelo de clasificación con KNN\n",
    "## Autora: Sandra Alonso Paz, estudiante del Máster en Biología Computacional."
   ]
  },
  {
   "cell_type": "code",
   "execution_count": 1,
   "metadata": {},
   "outputs": [],
   "source": [
    "import pandas as pd\n",
    "from sklearn import neighbors\n",
    "import matplotlib.pyplot as plt\n",
    "from sklearn.model_selection import train_test_split\n",
    "from sklearn import neighbors\n",
    "from sklearn.neighbors import KNeighborsClassifier\n",
    "from sklearn.metrics import accuracy_score\n",
    "import numpy as np\n",
    "from scipy.spatial import distance\n",
    "from sklearn import model_selection"
   ]
  },
  {
   "cell_type": "markdown",
   "metadata": {},
   "source": [
    "# Importación de los datos\n",
    "### 1. Importar los datos del CSV"
   ]
  },
  {
   "cell_type": "code",
   "execution_count": 2,
   "metadata": {},
   "outputs": [],
   "source": [
    "path ='dataset18.csv'\n",
    "data = pd.read_csv(path)"
   ]
  },
  {
   "cell_type": "markdown",
   "metadata": {},
   "source": [
    "### 2. Creamos las dos variables que utilizaremos en el modelo\n",
    "   \n",
    "    X = Atributos del modelo (columnas del CSV)\n",
    "    \n",
    "    Y = Columna target (la que queremos predecir a partir del resto de columnas)"
   ]
  },
  {
   "cell_type": "code",
   "execution_count": 3,
   "metadata": {},
   "outputs": [],
   "source": [
    "X = data.iloc[:,2:23] #Seleccionamos todas las columnas quitando la columna Unnamed (id de la fila ) y la columna Target.\n",
    "Y = []\n",
    "\n",
    "# Como la columna target esta compuesta por valores categóricos ordinales (R y NR) convertimos en valores numéricos (R=0, NR=1) \n",
    "for i in range (len(data)):\n",
    "    if data.Target[i]=='R':\n",
    "        Y.append(0)\n",
    "    else:\n",
    "        Y.append(1)\n",
    "\n"
   ]
  },
  {
   "cell_type": "markdown",
   "metadata": {},
   "source": [
    "# Creación del modelo de KNN\n",
    "### 1. Separamos el conjunto de datos en entrenamiento y prueba"
   ]
  },
  {
   "cell_type": "code",
   "execution_count": 4,
   "metadata": {},
   "outputs": [
    {
     "name": "stdout",
     "output_type": "stream",
     "text": [
      "Tamaño del conjunto de entrenamiento: 37\n",
      "Tamaño de la columna objetivo del conjunto de entrenamiento: 37\n",
      "Tamaño del conjunto de prueba: 16\n",
      "Tamaño de la columna objetivo del conjunto de prueba: 16\n"
     ]
    }
   ],
   "source": [
    "XTrain, XTest, yTrain, yTest = train_test_split(X, Y, test_size=0.30, random_state=125)\n",
    "\n",
    "print('Tamaño del conjunto de entrenamiento:', len(XTrain))\n",
    "print('Tamaño de la columna objetivo del conjunto de entrenamiento:', len(yTrain))\n",
    "print('Tamaño del conjunto de prueba:', len(XTest))\n",
    "print('Tamaño de la columna objetivo del conjunto de prueba:', len(yTest))"
   ]
  },
  {
   "cell_type": "markdown",
   "metadata": {},
   "source": [
    "En este modelo no utilizo el GridSearchCV porque me interesa estudiar individualmente los principales parámetros del modelo KNN (K, Métrica de distancia)\n",
    "### 2. Estudio de la mejor K"
   ]
  },
  {
   "cell_type": "code",
   "execution_count": 5,
   "metadata": {},
   "outputs": [
    {
     "name": "stdout",
     "output_type": "stream",
     "text": [
      "Best accuracy is obtained with k = 6 and is: 0.7500\n"
     ]
    }
   ],
   "source": [
    "neighbors = list(range(1,8))\n",
    "cek = []\n",
    "list_accuracy = []\n",
    "best_acuracy = 0\n",
    "best_k = 0\n",
    "for k in neighbors:\n",
    "    knn = KNeighborsClassifier(n_neighbors=k)\n",
    "    pred = knn.fit(XTrain, yTrain).predict(XTest)\n",
    "    if accuracy_score(yTest, pred) >= best_acuracy:\n",
    "        best_k = k\n",
    "        best_acuracy=accuracy_score(yTest, pred)\n",
    "    list_accuracy.append(accuracy_score(yTest, pred))\n",
    "\n",
    "print(\"Best accuracy is obtained with k = \" + str(best_k)+ \" and is: %.4f\" % (best_acuracy))\n"
   ]
  },
  {
   "cell_type": "code",
   "execution_count": 6,
   "metadata": {},
   "outputs": [
    {
     "data": {
      "image/png": "[encoded data removed]",
      "text/plain": [
       "<Figure size 432x288 with 1 Axes>"
      ]
     },
     "metadata": {
      "needs_background": "light"
     },
     "output_type": "display_data"
    }
   ],
   "source": [
    "plt.plot(np.append(np.roll(list_accuracy,1),list_accuracy[6]),'ro', color='r', linestyle='dashed',linewidth=1.0, label=\"Graph2\")\n",
    "# El punto verde indica la mejor K\n",
    "plt.plot(best_k, best_acuracy, 'ro', color ='g')\n",
    "plt.axis([1, 7, 0.5, 1])\n",
    "plt.xlabel('K')\n",
    "plt.ylabel('Accuracy')\n",
    "\n",
    "plt.grid()\n",
    "plt.show()"
   ]
  },
  {
   "cell_type": "markdown",
   "metadata": {},
   "source": [
    "### 3. Estudio de la mejor métrica (euclídea o manhattan)"
   ]
  },
  {
   "cell_type": "code",
   "execution_count": 7,
   "metadata": {},
   "outputs": [
    {
     "data": {
      "text/plain": [
       "KNeighborsClassifier(metric=<function cityblock at 0x000001B61E9D0700>,\n",
       "                     n_neighbors=6)"
      ]
     },
     "execution_count": 7,
     "metadata": {},
     "output_type": "execute_result"
    }
   ],
   "source": [
    "from sklearn import neighbors\n",
    "# Creación del modelo con distancia euclidea\n",
    "euclid_model = KNeighborsClassifier(n_neighbors=best_k, metric=distance.sqeuclidean)\n",
    "euclid_model.fit(XTrain,yTrain) \n",
    "\n",
    "#Creación del modelo con distancia Manhattan\n",
    "manhattan_model = KNeighborsClassifier(n_neighbors=best_k, metric=distance.cityblock) \n",
    "manhattan_model.fit(XTrain, yTrain)"
   ]
  },
  {
   "cell_type": "code",
   "execution_count": 8,
   "metadata": {},
   "outputs": [
    {
     "data": {
      "text/html": [
       "<div>\n",
       "<style scoped>\n",
       "    .dataframe tbody tr th:only-of-type {\n",
       "        vertical-align: middle;\n",
       "    }\n",
       "\n",
       "    .dataframe tbody tr th {\n",
       "        vertical-align: top;\n",
       "    }\n",
       "\n",
       "    .dataframe thead th {\n",
       "        text-align: right;\n",
       "    }\n",
       "</style>\n",
       "<table border=\"1\" class=\"dataframe\">\n",
       "  <thead>\n",
       "    <tr style=\"text-align: right;\">\n",
       "      <th></th>\n",
       "      <th>actual</th>\n",
       "      <th>manhattan</th>\n",
       "      <th>euclid</th>\n",
       "    </tr>\n",
       "  </thead>\n",
       "  <tbody>\n",
       "    <tr>\n",
       "      <th>0</th>\n",
       "      <td>0</td>\n",
       "      <td>1</td>\n",
       "      <td>1</td>\n",
       "    </tr>\n",
       "    <tr>\n",
       "      <th>1</th>\n",
       "      <td>0</td>\n",
       "      <td>0</td>\n",
       "      <td>0</td>\n",
       "    </tr>\n",
       "    <tr>\n",
       "      <th>2</th>\n",
       "      <td>0</td>\n",
       "      <td>0</td>\n",
       "      <td>0</td>\n",
       "    </tr>\n",
       "    <tr>\n",
       "      <th>3</th>\n",
       "      <td>1</td>\n",
       "      <td>1</td>\n",
       "      <td>1</td>\n",
       "    </tr>\n",
       "    <tr>\n",
       "      <th>4</th>\n",
       "      <td>0</td>\n",
       "      <td>0</td>\n",
       "      <td>1</td>\n",
       "    </tr>\n",
       "  </tbody>\n",
       "</table>\n",
       "</div>"
      ],
      "text/plain": [
       "   actual  manhattan  euclid\n",
       "0       0          1       1\n",
       "1       0          0       0\n",
       "2       0          0       0\n",
       "3       1          1       1\n",
       "4       0          0       1"
      ]
     },
     "execution_count": 8,
     "metadata": {},
     "output_type": "execute_result"
    }
   ],
   "source": [
    "manhattan_predictions = manhattan_model.predict(XTest)\n",
    "euclid_predictions = euclid_model.predict(XTest) \n",
    "df = pd.DataFrame({'actual': yTest, 'manhattan': manhattan_predictions, 'euclid': euclid_predictions})\n",
    "df.head()"
   ]
  },
  {
   "cell_type": "markdown",
   "metadata": {},
   "source": [
    "# Cross Validation\n",
    "### 1. Modelo con distancia euclidea"
   ]
  },
  {
   "cell_type": "code",
   "execution_count": 9,
   "metadata": {},
   "outputs": [
    {
     "name": "stdout",
     "output_type": "stream",
     "text": [
      "Mejor resultado de la cross validation del modelo con mejores resultados: 0.8071428571428572\n",
      "Mejor resultado de la cross validation del modelo con mejores resultados: 0.7857142857142858\n"
     ]
    }
   ],
   "source": [
    "result1= model_selection.cross_val_score(euclid_model, XTrain, yTrain, cv=5, scoring='accuracy')\n",
    "result2 = model_selection.cross_val_score(manhattan_model, XTrain, yTrain, cv=5, scoring='accuracy')\n",
    "print(\"Mejor resultado de la cross validation del modelo con mejores resultados: \" +str(np.mean(result1)))\n",
    "print(\"Mejor resultado de la cross validation del modelo con mejores resultados: \" +str(np.mean(result2)))\n"
   ]
  },
  {
   "cell_type": "markdown",
   "metadata": {},
   "source": [
    "# Predicciones y estudio de resultados"
   ]
  },
  {
   "cell_type": "code",
   "execution_count": 10,
   "metadata": {},
   "outputs": [],
   "source": [
    "# Realizamos las predicciones con el modelo óptimo sobre el conjunto de datos de entrenamiento\n",
    "yhatTrain = manhattan_model.predict(XTrain)\n",
    "contTrain = 0\n",
    "\n",
    "# Comparamos con la columna Target y comprobamos cuantos aciertos ha habido\n",
    "for i in range(0,len(yTrain),1) :\n",
    "    if (yhatTrain[i] == yTrain[i]):\n",
    "        contTrain = contTrain + 1"
   ]
  },
  {
   "cell_type": "code",
   "execution_count": 11,
   "metadata": {},
   "outputs": [],
   "source": [
    "# Realizamos las predicciones con el modelo óptimo sobre el conjunto de datos de entrenamiento\n",
    "yhatTrain2 = euclid_model.predict(XTrain)\n",
    "contTrain2 = 0\n",
    "\n",
    "# Comparamos con la columna Target y comprobamos cuantos aciertos ha habido\n",
    "for i in range(0,len(yTrain),1) :\n",
    "    if (yhatTrain2[i] == yTrain[i]):\n",
    "        contTrain2 = contTrain2 + 1"
   ]
  },
  {
   "cell_type": "code",
   "execution_count": 12,
   "metadata": {},
   "outputs": [],
   "source": [
    "# Realizamos las predicciones con el modelo óptimo sobre el conjunto de datos de prueba\n",
    "mayhatTest = manhattan_model.predict(XTest)\n",
    "contTest = 0\n",
    "\n",
    "# Comparamos con la columna Target y comprobamos cuantos aciertos ha habido\n",
    "for i in range(0,len(yTest),1) :\n",
    "    if (mayhatTest[i] == yTest[i]):\n",
    "        contTest = contTest + 1"
   ]
  },
  {
   "cell_type": "code",
   "execution_count": 13,
   "metadata": {},
   "outputs": [],
   "source": [
    "# Realizamos las predicciones con el modelo óptimo sobre el conjunto de datos de prueba\n",
    "euyhatTest2 = euclid_model.predict(XTest)\n",
    "contTest2 = 0\n",
    "\n",
    "# Comparamos con la columna Target y comprobamos cuantos aciertos ha habido\n",
    "for i in range(0,len(yTest),1) :\n",
    "    if (euyhatTest2[i] == yTest[i]):\n",
    "        contTest2 = contTest2 + 1"
   ]
  },
  {
   "cell_type": "code",
   "execution_count": 14,
   "metadata": {},
   "outputs": [
    {
     "name": "stdout",
     "output_type": "stream",
     "text": [
      "Precisión final en el conjunto de datos de entrenamiento (manhattan): 0.8378378378378378\n",
      "Precisión final en el conjunto de datos de entrenamiento (euclidea): 0.8648648648648649\n",
      "Precisión final en el conjunto de datos de prueba (manhattan): 0.8125\n",
      "Precisión final en el conjunto de datos de prueba (euclidea): 0.75\n"
     ]
    }
   ],
   "source": [
    "print('Precisión final en el conjunto de datos de entrenamiento (manhattan): ' + str(contTrain/len(yTrain)))\n",
    "print('Precisión final en el conjunto de datos de entrenamiento (euclidea): ' + str(contTrain2/len(yTrain)))\n",
    "\n",
    "print('Precisión final en el conjunto de datos de prueba (manhattan): ' + str(contTest/len(yTest)))\n",
    "print('Precisión final en el conjunto de datos de prueba (euclidea): ' + str(contTest2/len(yTest)))"
   ]
  },
  {
   "cell_type": "markdown",
   "metadata": {},
   "source": [
    "# Matriz de confusión\n",
    "### 1. Matriz de confusión del conjunto de datos del entrenamiento \n",
    "#### 1.1. Modelo Manhattan\n"
   ]
  },
  {
   "cell_type": "code",
   "execution_count": 15,
   "metadata": {},
   "outputs": [
    {
     "name": "stdout",
     "output_type": "stream",
     "text": [
      "----------------Matriz de confusión (Entrenamiento-Manhattan)------------------\n",
      "[[15  3]\n",
      " [ 3 16]]\n",
      "Datos de entrada:  [0 0 0 1 1 0 1 0 0 0 1 1 0 1 1 0 0 0 1 1 0 0 1 1 1 1 1 0 0 0 1 0 1 0 1 1 1]\n",
      "Predicción:        [0 1 0 1 1 0 1 0 0 0 1 1 1 1 1 0 0 0 0 1 1 0 1 0 1 1 1 0 0 0 0 0 1 0 1 1 1]\n"
     ]
    }
   ],
   "source": [
    "from sklearn.metrics import classification_report,confusion_matrix\n",
    "print('----------------Matriz de confusión (Entrenamiento-Manhattan)------------------')\n",
    "print(confusion_matrix(yTrain,yhatTrain))\n",
    "print('Datos de entrada:  ' + str(np.array(yTrain)))\n",
    "print('Predicción:        ' +str(yhatTrain))"
   ]
  },
  {
   "cell_type": "markdown",
   "metadata": {},
   "source": [
    "Estos resultados pueden ser interpretados de la siguiente manera:\n",
    "1. 15 verdaderos positivos (Verdaderamente responderán al tratamiento)\n",
    "2. 16 verdaderos negativos (Verdaderamente no responderán al tratamiento)\n",
    "3. 3 falsos positivos (Fueron clasificados como mala respuesta al tratamiento, sin embargo, no responderán correctamente al mismo)\n",
    "4. 3 falsos negativos (Fueron clasificados como buena respuesta al tratamiento, sin embargo, no responderán  al tratamiento)"
   ]
  },
  {
   "cell_type": "markdown",
   "metadata": {},
   "source": [
    "### 1.2. Resultados obtenidos del conjunto de entrenamiento Manhattan"
   ]
  },
  {
   "cell_type": "code",
   "execution_count": 16,
   "metadata": {},
   "outputs": [
    {
     "name": "stdout",
     "output_type": "stream",
     "text": [
      "              precision    recall  f1-score   support\n",
      "\n",
      "           0       0.83      0.83      0.83        18\n",
      "           1       0.84      0.84      0.84        19\n",
      "\n",
      "    accuracy                           0.84        37\n",
      "   macro avg       0.84      0.84      0.84        37\n",
      "weighted avg       0.84      0.84      0.84        37\n",
      "\n"
     ]
    }
   ],
   "source": [
    "print(classification_report(yTrain,yhatTrain))"
   ]
  },
  {
   "cell_type": "markdown",
   "metadata": {},
   "source": [
    "#### 1.3. Modelo Euclidea\n"
   ]
  },
  {
   "cell_type": "code",
   "execution_count": 17,
   "metadata": {},
   "outputs": [
    {
     "name": "stdout",
     "output_type": "stream",
     "text": [
      "----------------Matriz de confusión (Entrenamiento-Euclidea)------------------\n",
      "[[14  4]\n",
      " [ 1 18]]\n",
      "Datos de entrada:  [0 0 0 1 1 0 1 0 0 0 1 1 0 1 1 0 0 0 1 1 0 0 1 1 1 1 1 0 0 0 1 0 1 0 1 1 1]\n",
      "Predicción:        [0 1 0 1 1 0 1 0 0 0 1 1 1 1 1 0 0 0 0 1 1 0 1 0 1 1 1 0 0 0 0 0 1 0 1 1 1]\n"
     ]
    }
   ],
   "source": [
    "from sklearn.metrics import classification_report,confusion_matrix\n",
    "print('----------------Matriz de confusión (Entrenamiento-Euclidea)------------------')\n",
    "print(confusion_matrix(yTrain,yhatTrain2))\n",
    "print('Datos de entrada:  ' + str(np.array(yTrain)))\n",
    "print('Predicción:        ' +str(yhatTrain))"
   ]
  },
  {
   "cell_type": "markdown",
   "metadata": {},
   "source": [
    "### 1.2. Resultados obtenidos del conjunto de entrenamiento Euclidea"
   ]
  },
  {
   "cell_type": "code",
   "execution_count": 18,
   "metadata": {},
   "outputs": [
    {
     "name": "stdout",
     "output_type": "stream",
     "text": [
      "              precision    recall  f1-score   support\n",
      "\n",
      "           0       0.93      0.78      0.85        18\n",
      "           1       0.82      0.95      0.88        19\n",
      "\n",
      "    accuracy                           0.86        37\n",
      "   macro avg       0.88      0.86      0.86        37\n",
      "weighted avg       0.87      0.86      0.86        37\n",
      "\n"
     ]
    }
   ],
   "source": [
    "print(classification_report(yTrain,yhatTrain2))"
   ]
  },
  {
   "cell_type": "markdown",
   "metadata": {},
   "source": [
    "### 3. Matriz de confusión del conjunto de datos de prueba\n",
    "#### 3.1. Distancia euclidea"
   ]
  },
  {
   "cell_type": "code",
   "execution_count": 19,
   "metadata": {},
   "outputs": [
    {
     "name": "stdout",
     "output_type": "stream",
     "text": [
      "----------------Matriz de confusión (Prueba)------------------\n",
      "[[8 4]\n",
      " [0 4]]\n",
      "Datos de entrada:  [0 0 0 1 0 0 0 0 0 1 1 1 0 0 0 0]\n",
      "Predicción:        [1 0 0 1 1 1 0 0 0 1 1 1 1 0 0 0]\n"
     ]
    }
   ],
   "source": [
    "from sklearn.metrics import confusion_matrix\n",
    "confusion_matrix = confusion_matrix(yTest, euyhatTest2)\n",
    "print('----------------Matriz de confusión (Prueba)------------------')\n",
    "print(confusion_matrix)\n",
    "print('Datos de entrada:  ' + str(np.array(yTest)))\n",
    "print('Predicción:        ' +str(euyhatTest2))"
   ]
  },
  {
   "cell_type": "markdown",
   "metadata": {},
   "source": [
    "Estos resultados pueden ser interpretados de la siguiente manera:\n",
    "1. 8 verdaderos positivos (Verdaderamente responderán al tratamiento)\n",
    "2. 4 verdaderos negativos (Verdaderamente no responderán al tratamiento)\n",
    "3. 4 falsos positivos (Fueron clasificados como mala respuesta al tratamiento, sin embargo, responderán correctamente al mismo)\n",
    "4. 0 falsos negativos (Fueron clasificados como buena respuesta al tratamiento, sin embargo, no responderán al tratamiento)"
   ]
  },
  {
   "cell_type": "code",
   "execution_count": 20,
   "metadata": {},
   "outputs": [
    {
     "name": "stdout",
     "output_type": "stream",
     "text": [
      "              precision    recall  f1-score   support\n",
      "\n",
      "           0       1.00      0.67      0.80        12\n",
      "           1       0.50      1.00      0.67         4\n",
      "\n",
      "    accuracy                           0.75        16\n",
      "   macro avg       0.75      0.83      0.73        16\n",
      "weighted avg       0.88      0.75      0.77        16\n",
      "\n"
     ]
    }
   ],
   "source": [
    "print(classification_report(yTest, euyhatTest2))"
   ]
  },
  {
   "cell_type": "markdown",
   "metadata": {},
   "source": [
    "#### 3.2. Distancia Manhattan"
   ]
  },
  {
   "cell_type": "code",
   "execution_count": 21,
   "metadata": {},
   "outputs": [
    {
     "name": "stdout",
     "output_type": "stream",
     "text": [
      "----------------Matriz de confusión (Prueba)------------------\n",
      "[[10  2]\n",
      " [ 1  3]]\n",
      "Datos de entrada:  [0 0 0 1 0 0 0 0 0 1 1 1 0 0 0 0]\n",
      "Predicción:        [1 0 0 1 0 1 0 0 0 0 1 1 0 0 0 0]\n"
     ]
    }
   ],
   "source": [
    "from sklearn.metrics import confusion_matrix\n",
    "confusion_matrix = confusion_matrix(yTest, mayhatTest)\n",
    "print('----------------Matriz de confusión (Prueba)------------------')\n",
    "print(confusion_matrix)\n",
    "print('Datos de entrada:  ' + str(np.array(yTest)))\n",
    "print('Predicción:        ' +str(mayhatTest))"
   ]
  },
  {
   "cell_type": "markdown",
   "metadata": {},
   "source": [
    "Estos resultados pueden ser interpretados de la siguiente manera:\n",
    "1. 10 verdaderos positivos (Verdaderamente responderán al tratamiento)\n",
    "2. 3 verdaderos negativos (Verdaderamente no responderán al tratamiento)\n",
    "3. 2 falsos positivos (Fueron clasificados como mala respuesta al tratamiento, sin embargo, responderán correctamente al mismo)\n",
    "4. 1 falsos negativos (Fueron clasificados como buena respuesta al tratamiento, sin embargo, no responderán  al tratamiento)"
   ]
  },
  {
   "cell_type": "code",
   "execution_count": 22,
   "metadata": {},
   "outputs": [
    {
     "name": "stdout",
     "output_type": "stream",
     "text": [
      "              precision    recall  f1-score   support\n",
      "\n",
      "           0       0.91      0.83      0.87        12\n",
      "           1       0.60      0.75      0.67         4\n",
      "\n",
      "    accuracy                           0.81        16\n",
      "   macro avg       0.75      0.79      0.77        16\n",
      "weighted avg       0.83      0.81      0.82        16\n",
      "\n"
     ]
    }
   ],
   "source": [
    "print(classification_report(yTest, mayhatTest))"
   ]
  },
  {
   "cell_type": "markdown",
   "metadata": {},
   "source": [
    "# Bibliografía\n",
    "https://moodle.upm.es/titulaciones/oficiales/pluginfile.php/10054660/mod_resource/content/4/Unit2.1-SupervisedLearning-Classification-KNN.pdf\n",
    "\n",
    "https://scikit-learn.org/stable/modules/generated/sklearn.neighbors.KNeighborsClassifier.html?highlight=kneighborsclassifier#sklearn.neighbors.KNeighborsClassifier\n",
    "\n",
    "https://github.com/jakemath/knn-sklearn/blob/master/knn.ipynb\n",
    "\n",
    "https://github.com/SandraAlonso/PRACTICA-IC3"
   ]
  }
 ],
 "metadata": {
  "interpreter": {
   "hash": "441f9d3ff1c529ee1e872a15f4dc348a3c02d54fb42565189cd8283cda2528b2"
  },
  "kernelspec": {
   "display_name": "Python 3.8.10 64-bit ('mlenv': venv)",
   "name": "python3"
  },
  "language_info": {
   "codemirror_mode": {
    "name": "ipython",
    "version": 3
   },
   "file_extension": ".py",
   "mimetype": "text/x-python",
   "name": "python",
   "nbconvert_exporter": "python",
   "pygments_lexer": "ipython3",
   "version": "3.8.8"
  },
  "orig_nbformat": 4
 },
 "nbformat": 4,
 "nbformat_minor": 2
}
